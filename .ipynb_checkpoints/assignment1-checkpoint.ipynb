{
 "cells": [
  {
   "cell_type": "code",
   "execution_count": null,
   "metadata": {},
   "outputs": [],
   "source": []
  },
  {
   "cell_type": "code",
   "execution_count": 1,
   "metadata": {},
   "outputs": [
    {
     "name": "stdout",
     "output_type": "stream",
     "text": [
      "2030,2065,2100,2135,2170,2205,2240,2275,2310,2345,2380,2415,2450,2485,2520,2555,2590,2625,2660,2695,2730,2765,2800,2835,2870,2905,2940,2975,3010,3045,3080,3115,3150,3185\n"
     ]
    }
   ],
   "source": [
    "# Task 1\n",
    "\n",
    "'''\n",
    "2. Write a program which will find all such numbers which are divisible by 7 but are not a multiple of 5,\n",
    "between 2000 and 3200 (both included). \n",
    "The numbers obtained should be printed in a comma-separated sequence on a single line.\n",
    "'''\n",
    "\n",
    "nl=[]\n",
    "for x in range(2000, 3200):\n",
    "    if (x%7==0) and (x%5==0):\n",
    "        nl.append(str(x))\n",
    "print (','.join(nl))"
   ]
  },
  {
   "cell_type": "code",
   "execution_count": 2,
   "metadata": {},
   "outputs": [
    {
     "name": "stdout",
     "output_type": "stream",
     "text": [
      "Input your First Name : Md Akram\n",
      "Input your Last Name : Khan\n",
      "Hello  Khan Md Akram\n"
     ]
    }
   ],
   "source": [
    "'''\n",
    "3. Write a Python program to accept the user's first and\n",
    "last name and then getting them printed in the the reverse order with\n",
    "a space between first name and last name.\n",
    "'''\n",
    "\n",
    "fname = input(\"Input your First Name : \")\n",
    "lname = input(\"Input your Last Name : \")\n",
    "print (\"Hello  \" + lname + \" \" + fname)"
   ]
  },
  {
   "cell_type": "code",
   "execution_count": 3,
   "metadata": {},
   "outputs": [
    {
     "name": "stdout",
     "output_type": "stream",
     "text": [
      "904.3199999999999\n"
     ]
    }
   ],
   "source": [
    "'''\n",
    "4. Write a Python program to find the volume of a sphere with diameter 12 cm.\n",
    "\n",
    "Formula: V=4/3 * π * r3 \n",
    "'''\n",
    "\n",
    "Diam_cm = 12\n",
    "radius_cm = 6 # radius = Diameter/2\n",
    "pie = 3.14\n",
    "\n",
    "# formula \n",
    "\n",
    "V = (4/3 * pie * (radius_cm ** 3))\n",
    "\n",
    "print(V)"
   ]
  },
  {
   "cell_type": "code",
   "execution_count": null,
   "metadata": {},
   "outputs": [],
   "source": [
    "# Task 2\n",
    "'''\n",
    "1. Write a program which accepts a sequence of comma-separated numbers from console and\n",
    "generate a list.\n",
    "\n",
    "'''\n",
    "number=input()\n",
    "list1_num=number.split(\",\")\n",
    "list1_num"
   ]
  },
  {
   "cell_type": "code",
   "execution_count": null,
   "metadata": {},
   "outputs": [],
   "source": []
  }
 ],
 "metadata": {
  "kernelspec": {
   "display_name": "Python 3",
   "language": "python",
   "name": "python3"
  },
  "language_info": {
   "codemirror_mode": {
    "name": "ipython",
    "version": 3
   },
   "file_extension": ".py",
   "mimetype": "text/x-python",
   "name": "python",
   "nbconvert_exporter": "python",
   "pygments_lexer": "ipython3",
   "version": "3.7.1"
  }
 },
 "nbformat": 4,
 "nbformat_minor": 2
}
