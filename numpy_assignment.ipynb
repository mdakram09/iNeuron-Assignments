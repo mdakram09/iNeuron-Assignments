{
  "nbformat": 4,
  "nbformat_minor": 0,
  "metadata": {
    "colab": {
      "name": "numpy-assignment.ipynb",
      "provenance": []
    },
    "kernelspec": {
      "name": "python3",
      "display_name": "Python 3"
    }
  },
  "cells": [
    {
      "cell_type": "markdown",
      "metadata": {
        "id": "yCkR_Uuu1XgQ",
        "colab_type": "text"
      },
      "source": [
        "# Assignment 6"
      ]
    },
    {
      "cell_type": "markdown",
      "metadata": {
        "id": "RoYVL1sE1em-",
        "colab_type": "text"
      },
      "source": [
        "### Write a function so that the columns of the output matrix are powers of the input vector.\n",
        "### The order of the powers is determined by the increasing boolean argument. Specifically, when increasing is False, the i-th output column is the input vector raised element-wise to the power of N - i - 1.\n",
        "\n",
        "**HINT: Such a matrix with a geometric progression in each row is named for Alexandre-Theophile Vandermonde.**"
      ]
    },
    {
      "cell_type": "code",
      "metadata": {
        "id": "fPwfKgaw8nho",
        "colab_type": "code",
        "colab": {}
      },
      "source": [
        "import numpy as np"
      ],
      "execution_count": 0,
      "outputs": []
    },
    {
      "cell_type": "code",
      "metadata": {
        "id": "TNmGS6wS1GzT",
        "colab_type": "code",
        "colab": {}
      },
      "source": [
        "def alexTheoVander(iVector, n, increasing = False):\n",
        "  if increasing:\n",
        "    oMatrix = np.matrix([x**i for x in iVector for i in range(n)]).reshape(iVector.size, n)\n",
        "  else:\n",
        "    oMatrix = np.matrix([x**(n-i-1) for x in iVector for i in range(n)]).reshape(iVector.size, n)\n",
        "  return oMatrix"
      ],
      "execution_count": 0,
      "outputs": []
    },
    {
      "cell_type": "code",
      "metadata": {
        "id": "b0J4tOWB_0Ba",
        "colab_type": "code",
        "colab": {}
      },
      "source": [
        "iVector = np.array([1, 3, 5, 7, 9])\n",
        "n = 5"
      ],
      "execution_count": 0,
      "outputs": []
    },
    {
      "cell_type": "code",
      "metadata": {
        "id": "mLuCu5RKA1XO",
        "colab_type": "code",
        "colab": {
          "base_uri": "https://localhost:8080/",
          "height": 109
        },
        "outputId": "0812f95e-0b1a-4fc4-da77-972bb59fde25"
      },
      "source": [
        "oMtarix_asc = alexTheoVander(iVector, n, True)\n",
        "oMtarix_asc"
      ],
      "execution_count": 4,
      "outputs": [
        {
          "output_type": "execute_result",
          "data": {
            "text/plain": [
              "matrix([[   1,    1,    1,    1,    1],\n",
              "        [   1,    3,    9,   27,   81],\n",
              "        [   1,    5,   25,  125,  625],\n",
              "        [   1,    7,   49,  343, 2401],\n",
              "        [   1,    9,   81,  729, 6561]])"
            ]
          },
          "metadata": {
            "tags": []
          },
          "execution_count": 4
        }
      ]
    },
    {
      "cell_type": "code",
      "metadata": {
        "id": "KvDjT30iA2yO",
        "colab_type": "code",
        "colab": {
          "base_uri": "https://localhost:8080/",
          "height": 109
        },
        "outputId": "8033acf3-fdce-48bf-c6eb-0740dafded0d"
      },
      "source": [
        "oMtarix_desc = alexTheoVander(iVector, n, False)\n",
        "oMtarix_desc"
      ],
      "execution_count": 5,
      "outputs": [
        {
          "output_type": "execute_result",
          "data": {
            "text/plain": [
              "matrix([[   1,    1,    1,    1,    1],\n",
              "        [  81,   27,    9,    3,    1],\n",
              "        [ 625,  125,   25,    5,    1],\n",
              "        [2401,  343,   49,    7,    1],\n",
              "        [6561,  729,   81,    9,    1]])"
            ]
          },
          "metadata": {
            "tags": []
          },
          "execution_count": 5
        }
      ]
    },
    {
      "cell_type": "markdown",
      "metadata": {
        "id": "rvXcwej9Bv_O",
        "colab_type": "text"
      },
      "source": [
        "### Write a function to find moving average in an array over a window:\n",
        "Test it over [3, 5, 7, 2, 8, 10, 11, 65, 72, 81, 99, 100, 150] and window of 3."
      ]
    },
    {
      "cell_type": "code",
      "metadata": {
        "id": "9Ox7Dqu8Pe8h",
        "colab_type": "code",
        "colab": {}
      },
      "source": [
        "def movingAverage(inputValue, k):\n",
        "  z = 1\n",
        "  output = np.convolve(inputValue, np.ones(k), 'valid') / k\n",
        "  for i in output:\n",
        "    print(\"y{0} = {1:.2f}\".format(z, i))\n",
        "    z += 1"
      ],
      "execution_count": 0,
      "outputs": []
    },
    {
      "cell_type": "code",
      "metadata": {
        "id": "65Nhe55iqA_x",
        "colab_type": "code",
        "colab": {
          "base_uri": "https://localhost:8080/",
          "height": 219
        },
        "outputId": "45382c1d-1ef4-4ed2-d293-bd746bbbc967"
      },
      "source": [
        "inputValue = np.array([3, 5, 7, 2, 8, 10, 11, 65, 72, 81, 99, 100, 150])\n",
        "k = 3\n",
        "movingAverage(inputValue, k)"
      ],
      "execution_count": 7,
      "outputs": [
        {
          "output_type": "stream",
          "text": [
            "y1 = 5.00\n",
            "y2 = 4.67\n",
            "y3 = 5.67\n",
            "y4 = 6.67\n",
            "y5 = 9.67\n",
            "y6 = 28.67\n",
            "y7 = 49.33\n",
            "y8 = 72.67\n",
            "y9 = 84.00\n",
            "y10 = 93.33\n",
            "y11 = 116.33\n"
          ],
          "name": "stdout"
        }
      ]
    }
  ]
}