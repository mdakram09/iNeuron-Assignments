{
 "cells": [
  {
   "cell_type": "markdown",
   "metadata": {},
   "source": [
    "# Assignment 5"
   ]
  },
  {
   "cell_type": "markdown",
   "metadata": {},
   "source": [
    "### Write a function to compute 5/0 and use try/except to catch the exceptions."
   ]
  },
  {
   "cell_type": "code",
   "execution_count": 1,
   "metadata": {},
   "outputs": [],
   "source": [
    "def HandlingExecption():\n",
    "    try:\n",
    "        x = 5 / 0\n",
    "    except ZeroDivisionError:\n",
    "        return f\"Division by zero gives infinity!\""
   ]
  },
  {
   "cell_type": "code",
   "execution_count": 2,
   "metadata": {},
   "outputs": [
    {
     "data": {
      "text/plain": [
       "'Division by zero gives infinity!'"
      ]
     },
     "execution_count": 2,
     "metadata": {},
     "output_type": "execute_result"
    }
   ],
   "source": [
    "HandlingExecption()"
   ]
  },
  {
   "cell_type": "markdown",
   "metadata": {},
   "source": [
    "### Implement a Python program to generate all sentences where subject is in [\"Americans\", \"Indians\"] and verb is in [\"Play\", \"watch\"] and the object is in [\"Baseball\",\"cricket\"].\n",
    "\n",
    "### Hint: Subject,Verb and Object should be declared in the program as shown below.\n",
    "\n",
    "**subjects=[\"Americans\",\"Indians\"]**\n",
    "\n",
    "**verbs=[\"play\",\"watch\"]**\n",
    "\n",
    "**objects=[\"Baseball\",\"Cricket\"]**\n",
    "\n",
    "### Output should come as below:\n",
    "\n",
    "**Americans play Baseball.**\n",
    "\n",
    "**Americans play Cricket.**\n",
    "\n",
    "**Americans watch Baseball.**\n",
    "\n",
    "**Americans watch Cricket.**\n",
    "\n",
    "**Indians play Baseball.**\n",
    "\n",
    "**Indians play Cricket.**\n",
    "\n",
    "**Indians watch Baseball.**\n",
    "\n",
    "**Indians watch Cricket.**"
   ]
  },
  {
   "cell_type": "code",
   "execution_count": 3,
   "metadata": {},
   "outputs": [],
   "source": [
    "subjects = [\"Americans\",\"Indians\"]\n",
    "verbs = [\"play\",\"watch\"]\n",
    "objects = [\"Baseball\",\"Cricket\"]\n",
    "\n",
    "sentence = [s + \" \" + v + \" \" + o for s in subjects for v in verbs for o in objects]"
   ]
  },
  {
   "cell_type": "code",
   "execution_count": 4,
   "metadata": {},
   "outputs": [
    {
     "name": "stdout",
     "output_type": "stream",
     "text": [
      "Americans play Baseball\n",
      "Americans play Cricket\n",
      "Americans watch Baseball\n",
      "Americans watch Cricket\n",
      "Indians play Baseball\n",
      "Indians play Cricket\n",
      "Indians watch Baseball\n",
      "Indians watch Cricket\n"
     ]
    }
   ],
   "source": [
    "for i in sentence:\n",
    "    print(i)"
   ]
  }
 ],
 "metadata": {
  "kernelspec": {
   "display_name": "Python 3",
   "language": "python",
   "name": "python3"
  },
  "language_info": {
   "codemirror_mode": {
    "name": "ipython",
    "version": 3
   },
   "file_extension": ".py",
   "mimetype": "text/x-python",
   "name": "python",
   "nbconvert_exporter": "python",
   "pygments_lexer": "ipython3",
   "version": "3.7.7"
  }
 },
 "nbformat": 4,
 "nbformat_minor": 4
}
